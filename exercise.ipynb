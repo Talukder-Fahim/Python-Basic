{
 "cells": [
  {
   "cell_type": "markdown",
   "metadata": {},
   "source": [
    "<font color = yellow>Let us say your expense for every month are listed below,<br>\n",
    "    1. January  - 2200<br>\n",
    "    2. February - 2350<br>\n",
    "    3. March    - 2600<br>\n",
    "    4. April    - 2130<br>\n",
    "    5. May      - 2190<br>\n",
    "\n",
    "Create a list to store these monthly expenses and using that find out,</font>"
   ]
  },
  {
   "cell_type": "code",
   "execution_count": 40,
   "metadata": {},
   "outputs": [
    {
     "data": {
      "text/plain": [
       "[{'January': 2200,\n",
       "  'February': 2350,\n",
       "  'March': 2600,\n",
       "  'April': 2130,\n",
       "  'May': 2190}]"
      ]
     },
     "execution_count": 40,
     "metadata": {},
     "output_type": "execute_result"
    }
   ],
   "source": [
    "list1 = [{'January':2200,\n",
    "          'February':2350,\n",
    "          'March':2600,\n",
    "          'April':2130,\n",
    "          'May':2190}]\n",
    "list1"
   ]
  },
  {
   "cell_type": "markdown",
   "metadata": {},
   "source": [
    "<font color = yellow>1. In Feb, how many dollars you spent extra compare to January?</font>"
   ]
  },
  {
   "cell_type": "code",
   "execution_count": 41,
   "metadata": {},
   "outputs": [
    {
     "name": "stdout",
     "output_type": "stream",
     "text": [
      "Result :150\n"
     ]
    }
   ],
   "source": [
    "result = list1[0][\"February\"] - list1[0][\"January\"] \n",
    "print(f\"Result :{result}\")"
   ]
  },
  {
   "cell_type": "markdown",
   "metadata": {},
   "source": [
    "<font color = yellow>2. Find out your total expense in first quarter (first three months) of the year.</font>"
   ]
  },
  {
   "cell_type": "code",
   "execution_count": 42,
   "metadata": {},
   "outputs": [
    {
     "name": "stdout",
     "output_type": "stream",
     "text": [
      "Total expenses for the 1st Quarter: 7150\n"
     ]
    }
   ],
   "source": [
    "months = [\"January\",\"February\",\"March\"]\n",
    "\n",
    "total_expenses = sum(list1[0][month] for month in months) \n",
    "print(f\"Total expenses for the 1st Quarter: {total_expenses}\")"
   ]
  },
  {
   "cell_type": "markdown",
   "metadata": {},
   "source": [
    "<font color = yellow>3. Find out if you spent exactly 2000 dollars in any month</font>"
   ]
  },
  {
   "cell_type": "code",
   "execution_count": 43,
   "metadata": {},
   "outputs": [
    {
     "name": "stdout",
     "output_type": "stream",
     "text": [
      "Exactly $2000 wasn't spend in any month\n"
     ]
    }
   ],
   "source": [
    "found = False\n",
    "for i in list1[0]:\n",
    "    if list1[0][i] == 2000:\n",
    "        print(f'Exactly $2000 spend in {i} month')\n",
    "        found = True\n",
    "\n",
    "if found == False:\n",
    "    print(\"Exactly $2000 wasn't spend in any month\")\n",
    "\n"
   ]
  },
  {
   "cell_type": "markdown",
   "metadata": {},
   "source": [
    "<font color = yellow>4. June month just finished and your expense is 1980 dollar. Add this item to our monthly expense list</font>"
   ]
  },
  {
   "cell_type": "code",
   "execution_count": 44,
   "metadata": {},
   "outputs": [
    {
     "data": {
      "text/plain": [
       "[{'January': 2200,\n",
       "  'February': 2350,\n",
       "  'March': 2600,\n",
       "  'April': 2130,\n",
       "  'May': 2190,\n",
       "  'June': 1980}]"
      ]
     },
     "execution_count": 44,
     "metadata": {},
     "output_type": "execute_result"
    }
   ],
   "source": [
    "list1[0][\"June\"] = 1980\n",
    "list1"
   ]
  },
  {
   "cell_type": "markdown",
   "metadata": {},
   "source": [
    "<font color = yellow>5. You returned an item that you bought in a month of April and\n",
    "got a refund of 200$. Make a correction to your monthly expense list\n",
    "based on this</font>"
   ]
  },
  {
   "cell_type": "code",
   "execution_count": 45,
   "metadata": {},
   "outputs": [
    {
     "data": {
      "text/plain": [
       "[{'January': 2200,\n",
       "  'February': 2350,\n",
       "  'March': 2600,\n",
       "  'April': 1930,\n",
       "  'May': 2190,\n",
       "  'June': 1980}]"
      ]
     },
     "execution_count": 45,
     "metadata": {},
     "output_type": "execute_result"
    }
   ],
   "source": [
    "list1[0][\"April\"] = list1[0][\"April\"] - 200\n",
    "list1"
   ]
  }
 ],
 "metadata": {
  "kernelspec": {
   "display_name": "Python 3",
   "language": "python",
   "name": "python3"
  },
  "language_info": {
   "codemirror_mode": {
    "name": "ipython",
    "version": 3
   },
   "file_extension": ".py",
   "mimetype": "text/x-python",
   "name": "python",
   "nbconvert_exporter": "python",
   "pygments_lexer": "ipython3",
   "version": "3.12.4"
  }
 },
 "nbformat": 4,
 "nbformat_minor": 2
}
